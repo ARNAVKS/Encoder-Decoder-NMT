{
  "nbformat": 4,
  "nbformat_minor": 0,
  "metadata": {
    "colab": {
      "provenance": [],
      "gpuType": "T4",
      "authorship_tag": "ABX9TyMJ05vcrlfBUZSLmKYOtgfH"
    },
    "kernelspec": {
      "name": "python3",
      "display_name": "Python 3"
    },
    "language_info": {
      "name": "python"
    },
    "accelerator": "GPU"
  },
  "cells": [
    {
      "cell_type": "markdown",
      "source": [
        "Reading text file of english and french"
      ],
      "metadata": {
        "id": "h4dFxNLttzDc"
      }
    },
    {
      "cell_type": "code",
      "source": [
        "with open('small_vocab_en.txt', 'r') as f:\n",
        "    eng_sentences = f.read().split('\\n')\n",
        "\n",
        "with open('small_vocab_fr.txt', 'r') as f:\n",
        "    fre_sentences = f.read().split('\\n')"
      ],
      "metadata": {
        "id": "LwNkrNl0EAXN"
      },
      "execution_count": null,
      "outputs": []
    },
    {
      "cell_type": "markdown",
      "source": [
        "Importing pandas libraries"
      ],
      "metadata": {
        "id": "4i8ssM4puhSO"
      }
    },
    {
      "cell_type": "code",
      "source": [
        "import pandas as pd"
      ],
      "metadata": {
        "id": "HQ5yE_uLEnAZ"
      },
      "execution_count": null,
      "outputs": []
    },
    {
      "cell_type": "markdown",
      "source": [
        "Changing the engish and french sentences list into Data frame"
      ],
      "metadata": {
        "id": "HceqtoXaum7L"
      }
    },
    {
      "cell_type": "code",
      "source": [
        "table=pd.DataFrame(eng_sentences,columns=['English words/sentences'])"
      ],
      "metadata": {
        "id": "IuLSO_RYk-w-"
      },
      "execution_count": null,
      "outputs": []
    },
    {
      "cell_type": "code",
      "source": [
        "table['French words/sentences']=fre_sentences"
      ],
      "metadata": {
        "id": "7QAkcbrqli3X"
      },
      "execution_count": null,
      "outputs": []
    },
    {
      "cell_type": "code",
      "source": [
        "table.head()"
      ],
      "metadata": {
        "colab": {
          "base_uri": "https://localhost:8080/",
          "height": 275
        },
        "id": "f4HNwG5_I9ID",
        "outputId": "5fa64960-54d2-46f5-b911-741256e1da49"
      },
      "execution_count": null,
      "outputs": [
        {
          "output_type": "execute_result",
          "data": {
            "text/plain": [
              "                             English words/sentences  \\\n",
              "0  new jersey is sometimes quiet during autumn , ...   \n",
              "1  the united states is usually chilly during jul...   \n",
              "2  california is usually quiet during march , and...   \n",
              "3  the united states is sometimes mild during jun...   \n",
              "4  your least liked fruit is the grape , but my l...   \n",
              "\n",
              "                              French words/sentences  \n",
              "0  new jersey est parfois calme pendant l' automn...  \n",
              "1  les états-unis est généralement froid en juill...  \n",
              "2  california est généralement calme en mars , et...  \n",
              "3  les états-unis est parfois légère en juin , et...  \n",
              "4  votre moins aimé fruit est le raisin , mais mo...  "
            ],
            "text/html": [
              "\n",
              "  <div id=\"df-d2dbd11c-44d5-4e3f-a09b-9a4b657279c9\" class=\"colab-df-container\">\n",
              "    <div>\n",
              "<style scoped>\n",
              "    .dataframe tbody tr th:only-of-type {\n",
              "        vertical-align: middle;\n",
              "    }\n",
              "\n",
              "    .dataframe tbody tr th {\n",
              "        vertical-align: top;\n",
              "    }\n",
              "\n",
              "    .dataframe thead th {\n",
              "        text-align: right;\n",
              "    }\n",
              "</style>\n",
              "<table border=\"1\" class=\"dataframe\">\n",
              "  <thead>\n",
              "    <tr style=\"text-align: right;\">\n",
              "      <th></th>\n",
              "      <th>English words/sentences</th>\n",
              "      <th>French words/sentences</th>\n",
              "    </tr>\n",
              "  </thead>\n",
              "  <tbody>\n",
              "    <tr>\n",
              "      <th>0</th>\n",
              "      <td>new jersey is sometimes quiet during autumn , ...</td>\n",
              "      <td>new jersey est parfois calme pendant l' automn...</td>\n",
              "    </tr>\n",
              "    <tr>\n",
              "      <th>1</th>\n",
              "      <td>the united states is usually chilly during jul...</td>\n",
              "      <td>les états-unis est généralement froid en juill...</td>\n",
              "    </tr>\n",
              "    <tr>\n",
              "      <th>2</th>\n",
              "      <td>california is usually quiet during march , and...</td>\n",
              "      <td>california est généralement calme en mars , et...</td>\n",
              "    </tr>\n",
              "    <tr>\n",
              "      <th>3</th>\n",
              "      <td>the united states is sometimes mild during jun...</td>\n",
              "      <td>les états-unis est parfois légère en juin , et...</td>\n",
              "    </tr>\n",
              "    <tr>\n",
              "      <th>4</th>\n",
              "      <td>your least liked fruit is the grape , but my l...</td>\n",
              "      <td>votre moins aimé fruit est le raisin , mais mo...</td>\n",
              "    </tr>\n",
              "  </tbody>\n",
              "</table>\n",
              "</div>\n",
              "    <div class=\"colab-df-buttons\">\n",
              "\n",
              "  <div class=\"colab-df-container\">\n",
              "    <button class=\"colab-df-convert\" onclick=\"convertToInteractive('df-d2dbd11c-44d5-4e3f-a09b-9a4b657279c9')\"\n",
              "            title=\"Convert this dataframe to an interactive table.\"\n",
              "            style=\"display:none;\">\n",
              "\n",
              "  <svg xmlns=\"http://www.w3.org/2000/svg\" height=\"24px\" viewBox=\"0 -960 960 960\">\n",
              "    <path d=\"M120-120v-720h720v720H120Zm60-500h600v-160H180v160Zm220 220h160v-160H400v160Zm0 220h160v-160H400v160ZM180-400h160v-160H180v160Zm440 0h160v-160H620v160ZM180-180h160v-160H180v160Zm440 0h160v-160H620v160Z\"/>\n",
              "  </svg>\n",
              "    </button>\n",
              "\n",
              "  <style>\n",
              "    .colab-df-container {\n",
              "      display:flex;\n",
              "      gap: 12px;\n",
              "    }\n",
              "\n",
              "    .colab-df-convert {\n",
              "      background-color: #E8F0FE;\n",
              "      border: none;\n",
              "      border-radius: 50%;\n",
              "      cursor: pointer;\n",
              "      display: none;\n",
              "      fill: #1967D2;\n",
              "      height: 32px;\n",
              "      padding: 0 0 0 0;\n",
              "      width: 32px;\n",
              "    }\n",
              "\n",
              "    .colab-df-convert:hover {\n",
              "      background-color: #E2EBFA;\n",
              "      box-shadow: 0px 1px 2px rgba(60, 64, 67, 0.3), 0px 1px 3px 1px rgba(60, 64, 67, 0.15);\n",
              "      fill: #174EA6;\n",
              "    }\n",
              "\n",
              "    .colab-df-buttons div {\n",
              "      margin-bottom: 4px;\n",
              "    }\n",
              "\n",
              "    [theme=dark] .colab-df-convert {\n",
              "      background-color: #3B4455;\n",
              "      fill: #D2E3FC;\n",
              "    }\n",
              "\n",
              "    [theme=dark] .colab-df-convert:hover {\n",
              "      background-color: #434B5C;\n",
              "      box-shadow: 0px 1px 3px 1px rgba(0, 0, 0, 0.15);\n",
              "      filter: drop-shadow(0px 1px 2px rgba(0, 0, 0, 0.3));\n",
              "      fill: #FFFFFF;\n",
              "    }\n",
              "  </style>\n",
              "\n",
              "    <script>\n",
              "      const buttonEl =\n",
              "        document.querySelector('#df-d2dbd11c-44d5-4e3f-a09b-9a4b657279c9 button.colab-df-convert');\n",
              "      buttonEl.style.display =\n",
              "        google.colab.kernel.accessAllowed ? 'block' : 'none';\n",
              "\n",
              "      async function convertToInteractive(key) {\n",
              "        const element = document.querySelector('#df-d2dbd11c-44d5-4e3f-a09b-9a4b657279c9');\n",
              "        const dataTable =\n",
              "          await google.colab.kernel.invokeFunction('convertToInteractive',\n",
              "                                                    [key], {});\n",
              "        if (!dataTable) return;\n",
              "\n",
              "        const docLinkHtml = 'Like what you see? Visit the ' +\n",
              "          '<a target=\"_blank\" href=https://colab.research.google.com/notebooks/data_table.ipynb>data table notebook</a>'\n",
              "          + ' to learn more about interactive tables.';\n",
              "        element.innerHTML = '';\n",
              "        dataTable['output_type'] = 'display_data';\n",
              "        await google.colab.output.renderOutput(dataTable, element);\n",
              "        const docLink = document.createElement('div');\n",
              "        docLink.innerHTML = docLinkHtml;\n",
              "        element.appendChild(docLink);\n",
              "      }\n",
              "    </script>\n",
              "  </div>\n",
              "\n",
              "\n",
              "<div id=\"df-7c2f0635-551d-48a7-9a4c-4938268cb12f\">\n",
              "  <button class=\"colab-df-quickchart\" onclick=\"quickchart('df-7c2f0635-551d-48a7-9a4c-4938268cb12f')\"\n",
              "            title=\"Suggest charts\"\n",
              "            style=\"display:none;\">\n",
              "\n",
              "<svg xmlns=\"http://www.w3.org/2000/svg\" height=\"24px\"viewBox=\"0 0 24 24\"\n",
              "     width=\"24px\">\n",
              "    <g>\n",
              "        <path d=\"M19 3H5c-1.1 0-2 .9-2 2v14c0 1.1.9 2 2 2h14c1.1 0 2-.9 2-2V5c0-1.1-.9-2-2-2zM9 17H7v-7h2v7zm4 0h-2V7h2v10zm4 0h-2v-4h2v4z\"/>\n",
              "    </g>\n",
              "</svg>\n",
              "  </button>\n",
              "\n",
              "<style>\n",
              "  .colab-df-quickchart {\n",
              "      --bg-color: #E8F0FE;\n",
              "      --fill-color: #1967D2;\n",
              "      --hover-bg-color: #E2EBFA;\n",
              "      --hover-fill-color: #174EA6;\n",
              "      --disabled-fill-color: #AAA;\n",
              "      --disabled-bg-color: #DDD;\n",
              "  }\n",
              "\n",
              "  [theme=dark] .colab-df-quickchart {\n",
              "      --bg-color: #3B4455;\n",
              "      --fill-color: #D2E3FC;\n",
              "      --hover-bg-color: #434B5C;\n",
              "      --hover-fill-color: #FFFFFF;\n",
              "      --disabled-bg-color: #3B4455;\n",
              "      --disabled-fill-color: #666;\n",
              "  }\n",
              "\n",
              "  .colab-df-quickchart {\n",
              "    background-color: var(--bg-color);\n",
              "    border: none;\n",
              "    border-radius: 50%;\n",
              "    cursor: pointer;\n",
              "    display: none;\n",
              "    fill: var(--fill-color);\n",
              "    height: 32px;\n",
              "    padding: 0;\n",
              "    width: 32px;\n",
              "  }\n",
              "\n",
              "  .colab-df-quickchart:hover {\n",
              "    background-color: var(--hover-bg-color);\n",
              "    box-shadow: 0 1px 2px rgba(60, 64, 67, 0.3), 0 1px 3px 1px rgba(60, 64, 67, 0.15);\n",
              "    fill: var(--button-hover-fill-color);\n",
              "  }\n",
              "\n",
              "  .colab-df-quickchart-complete:disabled,\n",
              "  .colab-df-quickchart-complete:disabled:hover {\n",
              "    background-color: var(--disabled-bg-color);\n",
              "    fill: var(--disabled-fill-color);\n",
              "    box-shadow: none;\n",
              "  }\n",
              "\n",
              "  .colab-df-spinner {\n",
              "    border: 2px solid var(--fill-color);\n",
              "    border-color: transparent;\n",
              "    border-bottom-color: var(--fill-color);\n",
              "    animation:\n",
              "      spin 1s steps(1) infinite;\n",
              "  }\n",
              "\n",
              "  @keyframes spin {\n",
              "    0% {\n",
              "      border-color: transparent;\n",
              "      border-bottom-color: var(--fill-color);\n",
              "      border-left-color: var(--fill-color);\n",
              "    }\n",
              "    20% {\n",
              "      border-color: transparent;\n",
              "      border-left-color: var(--fill-color);\n",
              "      border-top-color: var(--fill-color);\n",
              "    }\n",
              "    30% {\n",
              "      border-color: transparent;\n",
              "      border-left-color: var(--fill-color);\n",
              "      border-top-color: var(--fill-color);\n",
              "      border-right-color: var(--fill-color);\n",
              "    }\n",
              "    40% {\n",
              "      border-color: transparent;\n",
              "      border-right-color: var(--fill-color);\n",
              "      border-top-color: var(--fill-color);\n",
              "    }\n",
              "    60% {\n",
              "      border-color: transparent;\n",
              "      border-right-color: var(--fill-color);\n",
              "    }\n",
              "    80% {\n",
              "      border-color: transparent;\n",
              "      border-right-color: var(--fill-color);\n",
              "      border-bottom-color: var(--fill-color);\n",
              "    }\n",
              "    90% {\n",
              "      border-color: transparent;\n",
              "      border-bottom-color: var(--fill-color);\n",
              "    }\n",
              "  }\n",
              "</style>\n",
              "\n",
              "  <script>\n",
              "    async function quickchart(key) {\n",
              "      const quickchartButtonEl =\n",
              "        document.querySelector('#' + key + ' button');\n",
              "      quickchartButtonEl.disabled = true;  // To prevent multiple clicks.\n",
              "      quickchartButtonEl.classList.add('colab-df-spinner');\n",
              "      try {\n",
              "        const charts = await google.colab.kernel.invokeFunction(\n",
              "            'suggestCharts', [key], {});\n",
              "      } catch (error) {\n",
              "        console.error('Error during call to suggestCharts:', error);\n",
              "      }\n",
              "      quickchartButtonEl.classList.remove('colab-df-spinner');\n",
              "      quickchartButtonEl.classList.add('colab-df-quickchart-complete');\n",
              "    }\n",
              "    (() => {\n",
              "      let quickchartButtonEl =\n",
              "        document.querySelector('#df-7c2f0635-551d-48a7-9a4c-4938268cb12f button');\n",
              "      quickchartButtonEl.style.display =\n",
              "        google.colab.kernel.accessAllowed ? 'block' : 'none';\n",
              "    })();\n",
              "  </script>\n",
              "</div>\n",
              "\n",
              "    </div>\n",
              "  </div>\n"
            ],
            "application/vnd.google.colaboratory.intrinsic+json": {
              "type": "dataframe",
              "variable_name": "table"
            }
          },
          "metadata": {},
          "execution_count": 5
        }
      ]
    },
    {
      "cell_type": "code",
      "source": [
        "len(table)"
      ],
      "metadata": {
        "colab": {
          "base_uri": "https://localhost:8080/"
        },
        "id": "Dz39nAkOJXko",
        "outputId": "0d1c3169-3c78-4e92-fac8-7ba8606eb5bc"
      },
      "execution_count": null,
      "outputs": [
        {
          "output_type": "execute_result",
          "data": {
            "text/plain": [
              "137861"
            ]
          },
          "metadata": {},
          "execution_count": 6
        }
      ]
    },
    {
      "cell_type": "markdown",
      "source": [
        "Adding start and end token in the french sentences data"
      ],
      "metadata": {
        "id": "d8_9m_kPvHpw"
      }
    },
    {
      "cell_type": "code",
      "source": [
        "table['French words/sentences']=table['French words/sentences'].apply(lambda x:'<SOS> '+x+' <EOS>')\n",
        "table['French words/sentences']=table['French words/sentences'].apply(lambda x:x.replace('  ',' '))"
      ],
      "metadata": {
        "id": "zvX3DYhWLyy-"
      },
      "execution_count": null,
      "outputs": []
    },
    {
      "cell_type": "code",
      "source": [
        "table=table.head(100000)"
      ],
      "metadata": {
        "id": "SeoyDWuDi3G4"
      },
      "execution_count": null,
      "outputs": []
    },
    {
      "cell_type": "code",
      "source": [
        "table.head()"
      ],
      "metadata": {
        "colab": {
          "base_uri": "https://localhost:8080/",
          "height": 293
        },
        "id": "ALdajP72MOlj",
        "outputId": "ce14c7fc-8d16-4fbd-f23d-51ae1a83d02f"
      },
      "execution_count": null,
      "outputs": [
        {
          "output_type": "execute_result",
          "data": {
            "text/plain": [
              "                             English words/sentences  \\\n",
              "0  new jersey is sometimes quiet during autumn , ...   \n",
              "1  the united states is usually chilly during jul...   \n",
              "2  california is usually quiet during march , and...   \n",
              "3  the united states is sometimes mild during jun...   \n",
              "4  your least liked fruit is the grape , but my l...   \n",
              "\n",
              "                              French words/sentences  \n",
              "0  <SOS> new jersey est parfois calme pendant l' ...  \n",
              "1  <SOS> les états-unis est généralement froid en...  \n",
              "2  <SOS> california est généralement calme en mar...  \n",
              "3  <SOS> les états-unis est parfois légère en jui...  \n",
              "4  <SOS> votre moins aimé fruit est le raisin , m...  "
            ],
            "text/html": [
              "\n",
              "  <div id=\"df-854e8f7b-eed6-42b4-9105-6f6f319c2b59\" class=\"colab-df-container\">\n",
              "    <div>\n",
              "<style scoped>\n",
              "    .dataframe tbody tr th:only-of-type {\n",
              "        vertical-align: middle;\n",
              "    }\n",
              "\n",
              "    .dataframe tbody tr th {\n",
              "        vertical-align: top;\n",
              "    }\n",
              "\n",
              "    .dataframe thead th {\n",
              "        text-align: right;\n",
              "    }\n",
              "</style>\n",
              "<table border=\"1\" class=\"dataframe\">\n",
              "  <thead>\n",
              "    <tr style=\"text-align: right;\">\n",
              "      <th></th>\n",
              "      <th>English words/sentences</th>\n",
              "      <th>French words/sentences</th>\n",
              "    </tr>\n",
              "  </thead>\n",
              "  <tbody>\n",
              "    <tr>\n",
              "      <th>0</th>\n",
              "      <td>new jersey is sometimes quiet during autumn , ...</td>\n",
              "      <td>&lt;SOS&gt; new jersey est parfois calme pendant l' ...</td>\n",
              "    </tr>\n",
              "    <tr>\n",
              "      <th>1</th>\n",
              "      <td>the united states is usually chilly during jul...</td>\n",
              "      <td>&lt;SOS&gt; les états-unis est généralement froid en...</td>\n",
              "    </tr>\n",
              "    <tr>\n",
              "      <th>2</th>\n",
              "      <td>california is usually quiet during march , and...</td>\n",
              "      <td>&lt;SOS&gt; california est généralement calme en mar...</td>\n",
              "    </tr>\n",
              "    <tr>\n",
              "      <th>3</th>\n",
              "      <td>the united states is sometimes mild during jun...</td>\n",
              "      <td>&lt;SOS&gt; les états-unis est parfois légère en jui...</td>\n",
              "    </tr>\n",
              "    <tr>\n",
              "      <th>4</th>\n",
              "      <td>your least liked fruit is the grape , but my l...</td>\n",
              "      <td>&lt;SOS&gt; votre moins aimé fruit est le raisin , m...</td>\n",
              "    </tr>\n",
              "  </tbody>\n",
              "</table>\n",
              "</div>\n",
              "    <div class=\"colab-df-buttons\">\n",
              "\n",
              "  <div class=\"colab-df-container\">\n",
              "    <button class=\"colab-df-convert\" onclick=\"convertToInteractive('df-854e8f7b-eed6-42b4-9105-6f6f319c2b59')\"\n",
              "            title=\"Convert this dataframe to an interactive table.\"\n",
              "            style=\"display:none;\">\n",
              "\n",
              "  <svg xmlns=\"http://www.w3.org/2000/svg\" height=\"24px\" viewBox=\"0 -960 960 960\">\n",
              "    <path d=\"M120-120v-720h720v720H120Zm60-500h600v-160H180v160Zm220 220h160v-160H400v160Zm0 220h160v-160H400v160ZM180-400h160v-160H180v160Zm440 0h160v-160H620v160ZM180-180h160v-160H180v160Zm440 0h160v-160H620v160Z\"/>\n",
              "  </svg>\n",
              "    </button>\n",
              "\n",
              "  <style>\n",
              "    .colab-df-container {\n",
              "      display:flex;\n",
              "      gap: 12px;\n",
              "    }\n",
              "\n",
              "    .colab-df-convert {\n",
              "      background-color: #E8F0FE;\n",
              "      border: none;\n",
              "      border-radius: 50%;\n",
              "      cursor: pointer;\n",
              "      display: none;\n",
              "      fill: #1967D2;\n",
              "      height: 32px;\n",
              "      padding: 0 0 0 0;\n",
              "      width: 32px;\n",
              "    }\n",
              "\n",
              "    .colab-df-convert:hover {\n",
              "      background-color: #E2EBFA;\n",
              "      box-shadow: 0px 1px 2px rgba(60, 64, 67, 0.3), 0px 1px 3px 1px rgba(60, 64, 67, 0.15);\n",
              "      fill: #174EA6;\n",
              "    }\n",
              "\n",
              "    .colab-df-buttons div {\n",
              "      margin-bottom: 4px;\n",
              "    }\n",
              "\n",
              "    [theme=dark] .colab-df-convert {\n",
              "      background-color: #3B4455;\n",
              "      fill: #D2E3FC;\n",
              "    }\n",
              "\n",
              "    [theme=dark] .colab-df-convert:hover {\n",
              "      background-color: #434B5C;\n",
              "      box-shadow: 0px 1px 3px 1px rgba(0, 0, 0, 0.15);\n",
              "      filter: drop-shadow(0px 1px 2px rgba(0, 0, 0, 0.3));\n",
              "      fill: #FFFFFF;\n",
              "    }\n",
              "  </style>\n",
              "\n",
              "    <script>\n",
              "      const buttonEl =\n",
              "        document.querySelector('#df-854e8f7b-eed6-42b4-9105-6f6f319c2b59 button.colab-df-convert');\n",
              "      buttonEl.style.display =\n",
              "        google.colab.kernel.accessAllowed ? 'block' : 'none';\n",
              "\n",
              "      async function convertToInteractive(key) {\n",
              "        const element = document.querySelector('#df-854e8f7b-eed6-42b4-9105-6f6f319c2b59');\n",
              "        const dataTable =\n",
              "          await google.colab.kernel.invokeFunction('convertToInteractive',\n",
              "                                                    [key], {});\n",
              "        if (!dataTable) return;\n",
              "\n",
              "        const docLinkHtml = 'Like what you see? Visit the ' +\n",
              "          '<a target=\"_blank\" href=https://colab.research.google.com/notebooks/data_table.ipynb>data table notebook</a>'\n",
              "          + ' to learn more about interactive tables.';\n",
              "        element.innerHTML = '';\n",
              "        dataTable['output_type'] = 'display_data';\n",
              "        await google.colab.output.renderOutput(dataTable, element);\n",
              "        const docLink = document.createElement('div');\n",
              "        docLink.innerHTML = docLinkHtml;\n",
              "        element.appendChild(docLink);\n",
              "      }\n",
              "    </script>\n",
              "  </div>\n",
              "\n",
              "\n",
              "<div id=\"df-8cbf39d0-409a-4694-9f98-942f60c673b1\">\n",
              "  <button class=\"colab-df-quickchart\" onclick=\"quickchart('df-8cbf39d0-409a-4694-9f98-942f60c673b1')\"\n",
              "            title=\"Suggest charts\"\n",
              "            style=\"display:none;\">\n",
              "\n",
              "<svg xmlns=\"http://www.w3.org/2000/svg\" height=\"24px\"viewBox=\"0 0 24 24\"\n",
              "     width=\"24px\">\n",
              "    <g>\n",
              "        <path d=\"M19 3H5c-1.1 0-2 .9-2 2v14c0 1.1.9 2 2 2h14c1.1 0 2-.9 2-2V5c0-1.1-.9-2-2-2zM9 17H7v-7h2v7zm4 0h-2V7h2v10zm4 0h-2v-4h2v4z\"/>\n",
              "    </g>\n",
              "</svg>\n",
              "  </button>\n",
              "\n",
              "<style>\n",
              "  .colab-df-quickchart {\n",
              "      --bg-color: #E8F0FE;\n",
              "      --fill-color: #1967D2;\n",
              "      --hover-bg-color: #E2EBFA;\n",
              "      --hover-fill-color: #174EA6;\n",
              "      --disabled-fill-color: #AAA;\n",
              "      --disabled-bg-color: #DDD;\n",
              "  }\n",
              "\n",
              "  [theme=dark] .colab-df-quickchart {\n",
              "      --bg-color: #3B4455;\n",
              "      --fill-color: #D2E3FC;\n",
              "      --hover-bg-color: #434B5C;\n",
              "      --hover-fill-color: #FFFFFF;\n",
              "      --disabled-bg-color: #3B4455;\n",
              "      --disabled-fill-color: #666;\n",
              "  }\n",
              "\n",
              "  .colab-df-quickchart {\n",
              "    background-color: var(--bg-color);\n",
              "    border: none;\n",
              "    border-radius: 50%;\n",
              "    cursor: pointer;\n",
              "    display: none;\n",
              "    fill: var(--fill-color);\n",
              "    height: 32px;\n",
              "    padding: 0;\n",
              "    width: 32px;\n",
              "  }\n",
              "\n",
              "  .colab-df-quickchart:hover {\n",
              "    background-color: var(--hover-bg-color);\n",
              "    box-shadow: 0 1px 2px rgba(60, 64, 67, 0.3), 0 1px 3px 1px rgba(60, 64, 67, 0.15);\n",
              "    fill: var(--button-hover-fill-color);\n",
              "  }\n",
              "\n",
              "  .colab-df-quickchart-complete:disabled,\n",
              "  .colab-df-quickchart-complete:disabled:hover {\n",
              "    background-color: var(--disabled-bg-color);\n",
              "    fill: var(--disabled-fill-color);\n",
              "    box-shadow: none;\n",
              "  }\n",
              "\n",
              "  .colab-df-spinner {\n",
              "    border: 2px solid var(--fill-color);\n",
              "    border-color: transparent;\n",
              "    border-bottom-color: var(--fill-color);\n",
              "    animation:\n",
              "      spin 1s steps(1) infinite;\n",
              "  }\n",
              "\n",
              "  @keyframes spin {\n",
              "    0% {\n",
              "      border-color: transparent;\n",
              "      border-bottom-color: var(--fill-color);\n",
              "      border-left-color: var(--fill-color);\n",
              "    }\n",
              "    20% {\n",
              "      border-color: transparent;\n",
              "      border-left-color: var(--fill-color);\n",
              "      border-top-color: var(--fill-color);\n",
              "    }\n",
              "    30% {\n",
              "      border-color: transparent;\n",
              "      border-left-color: var(--fill-color);\n",
              "      border-top-color: var(--fill-color);\n",
              "      border-right-color: var(--fill-color);\n",
              "    }\n",
              "    40% {\n",
              "      border-color: transparent;\n",
              "      border-right-color: var(--fill-color);\n",
              "      border-top-color: var(--fill-color);\n",
              "    }\n",
              "    60% {\n",
              "      border-color: transparent;\n",
              "      border-right-color: var(--fill-color);\n",
              "    }\n",
              "    80% {\n",
              "      border-color: transparent;\n",
              "      border-right-color: var(--fill-color);\n",
              "      border-bottom-color: var(--fill-color);\n",
              "    }\n",
              "    90% {\n",
              "      border-color: transparent;\n",
              "      border-bottom-color: var(--fill-color);\n",
              "    }\n",
              "  }\n",
              "</style>\n",
              "\n",
              "  <script>\n",
              "    async function quickchart(key) {\n",
              "      const quickchartButtonEl =\n",
              "        document.querySelector('#' + key + ' button');\n",
              "      quickchartButtonEl.disabled = true;  // To prevent multiple clicks.\n",
              "      quickchartButtonEl.classList.add('colab-df-spinner');\n",
              "      try {\n",
              "        const charts = await google.colab.kernel.invokeFunction(\n",
              "            'suggestCharts', [key], {});\n",
              "      } catch (error) {\n",
              "        console.error('Error during call to suggestCharts:', error);\n",
              "      }\n",
              "      quickchartButtonEl.classList.remove('colab-df-spinner');\n",
              "      quickchartButtonEl.classList.add('colab-df-quickchart-complete');\n",
              "    }\n",
              "    (() => {\n",
              "      let quickchartButtonEl =\n",
              "        document.querySelector('#df-8cbf39d0-409a-4694-9f98-942f60c673b1 button');\n",
              "      quickchartButtonEl.style.display =\n",
              "        google.colab.kernel.accessAllowed ? 'block' : 'none';\n",
              "    })();\n",
              "  </script>\n",
              "</div>\n",
              "\n",
              "    </div>\n",
              "  </div>\n"
            ],
            "application/vnd.google.colaboratory.intrinsic+json": {
              "type": "dataframe",
              "variable_name": "table",
              "summary": "{\n  \"name\": \"table\",\n  \"rows\": 100000,\n  \"fields\": [\n    {\n      \"column\": \"English words/sentences\",\n      \"properties\": {\n        \"dtype\": \"string\",\n        \"num_unique_values\": 94798,\n        \"samples\": [\n          \"india is cold during april , and it is rainy in fall .\",\n          \"new jersey is usually relaxing during summer , and it is mild in spring .\",\n          \"i like apples , pears , and grapes .\"\n        ],\n        \"semantic_type\": \"\",\n        \"description\": \"\"\n      }\n    },\n    {\n      \"column\": \"French words/sentences\",\n      \"properties\": {\n        \"dtype\": \"string\",\n        \"num_unique_values\": 90277,\n        \"samples\": [\n          \"<SOS> le singe est mon animal le plus aim\\u00e9 . <EOS>\",\n          \"<SOS> elle aime le pamplemousse , les poires et les bananes . <EOS>\",\n          \"<SOS> les \\u00e9tats-unis est sec en janvier , mais il est jamais agr\\u00e9able en octobre . <EOS>\"\n        ],\n        \"semantic_type\": \"\",\n        \"description\": \"\"\n      }\n    }\n  ]\n}"
            }
          },
          "metadata": {},
          "execution_count": 9
        }
      ]
    },
    {
      "cell_type": "markdown",
      "source": [
        "Importing **Tokenizer** (which tokenize every unique vocabulary) and **pad_sequences** (which normalize the length of the every sequences to the length of the maximum sequence length available in the dataset by putting zero after sequence ends)"
      ],
      "metadata": {
        "id": "MtHkcsSavhtX"
      }
    },
    {
      "cell_type": "code",
      "source": [
        "from keras.preprocessing.text import Tokenizer\n",
        "from keras.utils import pad_sequences"
      ],
      "metadata": {
        "id": "jxHDM1ZBNXYc"
      },
      "execution_count": null,
      "outputs": []
    },
    {
      "cell_type": "markdown",
      "source": [
        "Making a Tokenizer with defaults setting for english sentences and making a tokenizer for french sentences with one change in setting that is we will filter all characters except '<' and '>' to avoid the change of our start token and end token"
      ],
      "metadata": {
        "id": "fIUhWK3b1GvN"
      }
    },
    {
      "cell_type": "code",
      "source": [
        "eng_token=Tokenizer()\n",
        "fre_token=Tokenizer(filters='!\"#$%&()*+,-./:;=?@[\\\\]^_`{|}~\\t\\n')"
      ],
      "metadata": {
        "id": "m4YdrcrAOpXa"
      },
      "execution_count": null,
      "outputs": []
    },
    {
      "cell_type": "markdown",
      "source": [
        "Fitting all the sentences in english and french in their respective tokenizer"
      ],
      "metadata": {
        "id": "vkm0dogQ255d"
      }
    },
    {
      "cell_type": "code",
      "source": [
        "eng_token.fit_on_texts(table['English words/sentences'])\n",
        "fre_token.fit_on_texts(table['French words/sentences'])"
      ],
      "metadata": {
        "id": "cC4mmxmNPZzu"
      },
      "execution_count": null,
      "outputs": []
    },
    {
      "cell_type": "markdown",
      "source": [
        "Saving the dictionary to word to index and index to word"
      ],
      "metadata": {
        "id": "ryJykvrZ3VdI"
      }
    },
    {
      "cell_type": "code",
      "source": [
        "fre_index=fre_token.word_index\n",
        "reverse_fre_index=fre_token.index_word"
      ],
      "metadata": {
        "id": "XZ-j0ZyKP5HL"
      },
      "execution_count": null,
      "outputs": []
    },
    {
      "cell_type": "code",
      "source": [
        "fre_index['<EOS>']"
      ],
      "metadata": {
        "colab": {
          "base_uri": "https://localhost:8080/"
        },
        "id": "m2GA2jjLP9iA",
        "outputId": "7646e51e-d5bb-4f2c-f065-07c16140aa4c"
      },
      "execution_count": null,
      "outputs": [
        {
          "output_type": "execute_result",
          "data": {
            "text/plain": [
              "3"
            ]
          },
          "metadata": {},
          "execution_count": 15
        }
      ]
    },
    {
      "cell_type": "code",
      "source": [
        "fre_index['<SOS>']"
      ],
      "metadata": {
        "colab": {
          "base_uri": "https://localhost:8080/"
        },
        "id": "zxmFa863OgYG",
        "outputId": "3df4c9f1-d0d4-4042-aea9-d23c55588399"
      },
      "execution_count": null,
      "outputs": [
        {
          "output_type": "execute_result",
          "data": {
            "text/plain": [
              "2"
            ]
          },
          "metadata": {},
          "execution_count": 16
        }
      ]
    },
    {
      "cell_type": "code",
      "source": [
        "reverse_fre_index[3]"
      ],
      "metadata": {
        "colab": {
          "base_uri": "https://localhost:8080/",
          "height": 36
        },
        "id": "KiHLIqMDQBCT",
        "outputId": "abff39c4-eacb-4088-e33c-a88a7e9677a1"
      },
      "execution_count": null,
      "outputs": [
        {
          "output_type": "execute_result",
          "data": {
            "text/plain": [
              "'<EOS>'"
            ],
            "application/vnd.google.colaboratory.intrinsic+json": {
              "type": "string"
            }
          },
          "metadata": {},
          "execution_count": 17
        }
      ]
    },
    {
      "cell_type": "code",
      "source": [
        "reverse_fre_index[2]"
      ],
      "metadata": {
        "colab": {
          "base_uri": "https://localhost:8080/",
          "height": 36
        },
        "id": "gxQrUmjLP4DN",
        "outputId": "4aea96bf-e82e-4f7e-8aea-4132c3c2e469"
      },
      "execution_count": null,
      "outputs": [
        {
          "output_type": "execute_result",
          "data": {
            "text/plain": [
              "'<SOS>'"
            ],
            "application/vnd.google.colaboratory.intrinsic+json": {
              "type": "string"
            }
          },
          "metadata": {},
          "execution_count": 18
        }
      ]
    },
    {
      "cell_type": "markdown",
      "source": [
        "Maximum sentence length in of all data of english sentences"
      ],
      "metadata": {
        "id": "oziuxvkK3n2_"
      }
    },
    {
      "cell_type": "code",
      "source": [
        "max([len(i.split()) for i in table['English words/sentences']])"
      ],
      "metadata": {
        "colab": {
          "base_uri": "https://localhost:8080/"
        },
        "id": "yNheGItAUn-w",
        "outputId": "e3b1da8a-2cb3-45a2-89e0-abe1eea789c0"
      },
      "execution_count": null,
      "outputs": [
        {
          "output_type": "execute_result",
          "data": {
            "text/plain": [
              "17"
            ]
          },
          "metadata": {},
          "execution_count": 19
        }
      ]
    },
    {
      "cell_type": "markdown",
      "source": [
        "Maximum sentence length in of all data of french sentences"
      ],
      "metadata": {
        "id": "MWuUukMo3ww9"
      }
    },
    {
      "cell_type": "code",
      "source": [
        "max([len(i.split()) for i in table['French words/sentences']])"
      ],
      "metadata": {
        "colab": {
          "base_uri": "https://localhost:8080/"
        },
        "id": "MkS8bbl2Uw0p",
        "outputId": "5cbbe0c5-9857-408e-8179-52eb04152f1e"
      },
      "execution_count": null,
      "outputs": [
        {
          "output_type": "execute_result",
          "data": {
            "text/plain": [
              "25"
            ]
          },
          "metadata": {},
          "execution_count": 20
        }
      ]
    },
    {
      "cell_type": "code",
      "source": [
        "max_eng_length=max([len(i.split()) for i in table['English words/sentences']])\n",
        "max_fre_length=max([len(i.split()) for i in table['French words/sentences']])"
      ],
      "metadata": {
        "id": "5iFHX_ArUi0d"
      },
      "execution_count": null,
      "outputs": []
    },
    {
      "cell_type": "markdown",
      "source": [
        "Changing all the sentences in both english and french sentences data into sequences"
      ],
      "metadata": {
        "id": "3kCk1CIo37Mr"
      }
    },
    {
      "cell_type": "code",
      "source": [
        "eng_seq=eng_token.texts_to_sequences(table['English words/sentences'])\n",
        "fre_seq=fre_token.texts_to_sequences(table['French words/sentences'])"
      ],
      "metadata": {
        "id": "8xPmsNQJR7Dn"
      },
      "execution_count": null,
      "outputs": []
    },
    {
      "cell_type": "markdown",
      "source": [
        "Padding both set of sequences with their maximum length"
      ],
      "metadata": {
        "id": "i__hJHhK4OYR"
      }
    },
    {
      "cell_type": "code",
      "source": [
        "pad_eng_seq=pad_sequences(eng_seq,maxlen=max_eng_length,padding='post')\n",
        "pad_fre_seq=pad_sequences(fre_seq,maxlen=max_fre_length,padding='post')"
      ],
      "metadata": {
        "id": "WrEoAOD1Xtgz"
      },
      "execution_count": null,
      "outputs": []
    },
    {
      "cell_type": "markdown",
      "source": [
        "Total vocab size after padding. That is why we add 1 in the total vocab in their respective tokenizer as after padding we get a new index that is '0'"
      ],
      "metadata": {
        "id": "-6WNy4Hd4idG"
      }
    },
    {
      "cell_type": "code",
      "source": [
        "len(eng_token.word_index)+1,len(fre_token.word_index)+1"
      ],
      "metadata": {
        "colab": {
          "base_uri": "https://localhost:8080/"
        },
        "id": "zKXQt6WkadWR",
        "outputId": "e485455e-93c6-430a-b91d-5b7cbb3dca99"
      },
      "execution_count": null,
      "outputs": [
        {
          "output_type": "execute_result",
          "data": {
            "text/plain": [
              "(200, 344)"
            ]
          },
          "metadata": {},
          "execution_count": 24
        }
      ]
    },
    {
      "cell_type": "code",
      "source": [
        "fre_vocab_size=len(fre_token.word_index)+1"
      ],
      "metadata": {
        "id": "l4-3B0P0fYHg"
      },
      "execution_count": null,
      "outputs": []
    },
    {
      "cell_type": "code",
      "source": [
        "X1=pad_eng_seq"
      ],
      "metadata": {
        "id": "hBVsf24VgLET"
      },
      "execution_count": null,
      "outputs": []
    },
    {
      "cell_type": "code",
      "source": [
        "X2 = pad_fre_seq.reshape((-1, max_fre_length, 1))[:, :-1, :]\n",
        "y = pad_fre_seq.reshape((-1, max_fre_length, 1))[:, 1:, :]"
      ],
      "metadata": {
        "id": "i-oWADK3uuPO"
      },
      "execution_count": null,
      "outputs": []
    },
    {
      "cell_type": "code",
      "source": [
        "X1.shape,X2.shape,y.shape"
      ],
      "metadata": {
        "colab": {
          "base_uri": "https://localhost:8080/"
        },
        "id": "ZWcaz--uyuka",
        "outputId": "b38dcfe8-1ae3-431b-fde6-61481d1986d2"
      },
      "execution_count": null,
      "outputs": [
        {
          "output_type": "execute_result",
          "data": {
            "text/plain": [
              "((100000, 17), (100000, 24, 1), (100000, 24, 1))"
            ]
          },
          "metadata": {},
          "execution_count": 28
        }
      ]
    },
    {
      "cell_type": "code",
      "source": [
        "X1[0],X2[0],y[0]"
      ],
      "metadata": {
        "colab": {
          "base_uri": "https://localhost:8080/"
        },
        "id": "xkbLlWlq9Inh",
        "outputId": "d1aaf0da-1449-4eeb-eefa-da4960d61a33"
      },
      "execution_count": null,
      "outputs": [
        {
          "output_type": "execute_result",
          "data": {
            "text/plain": [
              "(array([17, 20,  1,  8, 65,  4, 36,  7,  3,  1, 42,  2, 46,  0,  0,  0,  0],\n",
              "       dtype=int32),\n",
              " array([[  2],\n",
              "        [ 36],\n",
              "        [ 35],\n",
              "        [  1],\n",
              "        [ 10],\n",
              "        [ 69],\n",
              "        [ 39],\n",
              "        [ 13],\n",
              "        [ 26],\n",
              "        [  8],\n",
              "        [  5],\n",
              "        [  1],\n",
              "        [114],\n",
              "        [  4],\n",
              "        [ 54],\n",
              "        [  3],\n",
              "        [  0],\n",
              "        [  0],\n",
              "        [  0],\n",
              "        [  0],\n",
              "        [  0],\n",
              "        [  0],\n",
              "        [  0],\n",
              "        [  0]], dtype=int32),\n",
              " array([[ 36],\n",
              "        [ 35],\n",
              "        [  1],\n",
              "        [ 10],\n",
              "        [ 69],\n",
              "        [ 39],\n",
              "        [ 13],\n",
              "        [ 26],\n",
              "        [  8],\n",
              "        [  5],\n",
              "        [  1],\n",
              "        [114],\n",
              "        [  4],\n",
              "        [ 54],\n",
              "        [  3],\n",
              "        [  0],\n",
              "        [  0],\n",
              "        [  0],\n",
              "        [  0],\n",
              "        [  0],\n",
              "        [  0],\n",
              "        [  0],\n",
              "        [  0],\n",
              "        [  0]], dtype=int32))"
            ]
          },
          "metadata": {},
          "execution_count": 52
        }
      ]
    },
    {
      "cell_type": "code",
      "source": [
        "import numpy as np"
      ],
      "metadata": {
        "id": "1IszF18Sc_En"
      },
      "execution_count": null,
      "outputs": []
    },
    {
      "cell_type": "code",
      "source": [
        "from keras.layers import Input,Embedding,LSTM,Dense\n",
        "from keras import Model\n",
        "from keras.losses import sparse_categorical_crossentropy"
      ],
      "metadata": {
        "id": "OHQVx1pr53Ol"
      },
      "execution_count": null,
      "outputs": []
    },
    {
      "cell_type": "markdown",
      "source": [
        "Making the Encoder-Decoder model and training it"
      ],
      "metadata": {
        "id": "s8VvfEY86M-i"
      }
    },
    {
      "cell_type": "code",
      "source": [
        "encoder_input=Input(shape=(None,))\n",
        "encoder_embedding=Embedding(len(eng_token.word_index)+1,200,mask_zero=True)\n",
        "encoder_embed=encoder_embedding(encoder_input)\n",
        "encoder_lstm=LSTM(256,return_state=True)\n",
        "_,h,c=encoder_lstm(encoder_embed)\n",
        "states=[h,c]\n",
        "\n",
        "decoder_input=Input(shape=(None,1))\n",
        "decoder_lstm=LSTM(256,return_state=True,return_sequences=True)\n",
        "decoder_output,_,__=decoder_lstm(decoder_input,initial_state=states)\n",
        "\n",
        "dense_layers=Dense(fre_vocab_size,activation='softmax')\n",
        "output=dense_layers(decoder_output)\n",
        "\n",
        "model=Model([encoder_input,decoder_input],output)\n",
        "model.compile(optimizer='adam',loss='sparse_categorical_crossentropy',metrics=['accuracy'])"
      ],
      "metadata": {
        "id": "MaOsPBzk7WwZ"
      },
      "execution_count": null,
      "outputs": []
    },
    {
      "cell_type": "code",
      "source": [
        "model.fit([X1,X2],y,epochs=20,validation_split=0.1)"
      ],
      "metadata": {
        "colab": {
          "base_uri": "https://localhost:8080/"
        },
        "id": "g5Yn3peDk0Fk",
        "outputId": "d1bb1569-ef62-476f-a54d-44b7395c3c52"
      },
      "execution_count": null,
      "outputs": [
        {
          "output_type": "stream",
          "name": "stdout",
          "text": [
            "Epoch 1/20\n",
            "2813/2813 [==============================] - 53s 16ms/step - loss: 0.5049 - accuracy: 0.8548 - val_loss: 0.1259 - val_accuracy: 0.9656\n",
            "Epoch 2/20\n",
            "2813/2813 [==============================] - 32s 11ms/step - loss: 0.0636 - accuracy: 0.9827 - val_loss: 0.0378 - val_accuracy: 0.9893\n",
            "Epoch 3/20\n",
            "2813/2813 [==============================] - 31s 11ms/step - loss: 0.0297 - accuracy: 0.9912 - val_loss: 0.0251 - val_accuracy: 0.9925\n",
            "Epoch 4/20\n",
            "2813/2813 [==============================] - 32s 11ms/step - loss: 0.0197 - accuracy: 0.9940 - val_loss: 0.0194 - val_accuracy: 0.9942\n",
            "Epoch 5/20\n",
            "2813/2813 [==============================] - 29s 10ms/step - loss: 0.0149 - accuracy: 0.9954 - val_loss: 0.0163 - val_accuracy: 0.9949\n",
            "Epoch 6/20\n",
            "2813/2813 [==============================] - 29s 10ms/step - loss: 0.0119 - accuracy: 0.9963 - val_loss: 0.0131 - val_accuracy: 0.9960\n",
            "Epoch 7/20\n",
            "2813/2813 [==============================] - 30s 11ms/step - loss: 0.0100 - accuracy: 0.9969 - val_loss: 0.0131 - val_accuracy: 0.9961\n",
            "Epoch 8/20\n",
            "2813/2813 [==============================] - 29s 10ms/step - loss: 0.0086 - accuracy: 0.9973 - val_loss: 0.0116 - val_accuracy: 0.9964\n",
            "Epoch 9/20\n",
            "2813/2813 [==============================] - 30s 11ms/step - loss: 0.0075 - accuracy: 0.9976 - val_loss: 0.0123 - val_accuracy: 0.9963\n",
            "Epoch 10/20\n",
            "2813/2813 [==============================] - 29s 10ms/step - loss: 0.0066 - accuracy: 0.9979 - val_loss: 0.0102 - val_accuracy: 0.9969\n",
            "Epoch 11/20\n",
            "2813/2813 [==============================] - 32s 11ms/step - loss: 0.0061 - accuracy: 0.9981 - val_loss: 0.0105 - val_accuracy: 0.9969\n",
            "Epoch 12/20\n",
            "2813/2813 [==============================] - 32s 11ms/step - loss: 0.0054 - accuracy: 0.9983 - val_loss: 0.0105 - val_accuracy: 0.9969\n",
            "Epoch 13/20\n",
            "2813/2813 [==============================] - 30s 11ms/step - loss: 0.0050 - accuracy: 0.9984 - val_loss: 0.0099 - val_accuracy: 0.9972\n",
            "Epoch 14/20\n",
            "2813/2813 [==============================] - 29s 10ms/step - loss: 0.0046 - accuracy: 0.9985 - val_loss: 0.0102 - val_accuracy: 0.9972\n",
            "Epoch 15/20\n",
            "2813/2813 [==============================] - 29s 10ms/step - loss: 0.0042 - accuracy: 0.9986 - val_loss: 0.0108 - val_accuracy: 0.9970\n",
            "Epoch 16/20\n",
            "2813/2813 [==============================] - 30s 11ms/step - loss: 0.0039 - accuracy: 0.9987 - val_loss: 0.0101 - val_accuracy: 0.9972\n",
            "Epoch 17/20\n",
            "2813/2813 [==============================] - 31s 11ms/step - loss: 0.0037 - accuracy: 0.9988 - val_loss: 0.0095 - val_accuracy: 0.9974\n",
            "Epoch 18/20\n",
            "2813/2813 [==============================] - 35s 12ms/step - loss: 0.0034 - accuracy: 0.9989 - val_loss: 0.0103 - val_accuracy: 0.9973\n",
            "Epoch 19/20\n",
            "2813/2813 [==============================] - 30s 11ms/step - loss: 0.0032 - accuracy: 0.9990 - val_loss: 0.0104 - val_accuracy: 0.9973\n",
            "Epoch 20/20\n",
            "2813/2813 [==============================] - 36s 13ms/step - loss: 0.0031 - accuracy: 0.9990 - val_loss: 0.0099 - val_accuracy: 0.9974\n"
          ]
        },
        {
          "output_type": "execute_result",
          "data": {
            "text/plain": [
              "<keras.src.callbacks.History at 0x7d8c8c2dfdc0>"
            ]
          },
          "metadata": {},
          "execution_count": 32
        }
      ]
    },
    {
      "cell_type": "markdown",
      "source": [
        " After training, we split the combined model into encoder model and decoder model"
      ],
      "metadata": {
        "id": "Dh1nlL5Z6Zct"
      }
    },
    {
      "cell_type": "markdown",
      "source": [
        "* Encoder Model will input english sequence and will predict states of that sequence"
      ],
      "metadata": {
        "id": "ciEPo3qd7CzN"
      }
    },
    {
      "cell_type": "code",
      "source": [
        "encoder_model=Model(encoder_input,states)"
      ],
      "metadata": {
        "id": "Z27-3OXXHSH-"
      },
      "execution_count": null,
      "outputs": []
    },
    {
      "cell_type": "markdown",
      "source": [
        "* Decoder Model will input a single token index and initial states and predict softmax output and new states"
      ],
      "metadata": {
        "id": "-z4_qMXG7c_C"
      }
    },
    {
      "cell_type": "code",
      "source": [
        "h=Input(shape=(256,))\n",
        "c=Input(shape=(256,))\n",
        "dec_state=[h,c]\n",
        "lst,h2,c2=decoder_lstm(decoder_input,initial_state=dec_state)\n",
        "new_state=[h2,c2]\n",
        "out=dense_layers(lst)\n",
        "\n",
        "decoder_model=Model([decoder_input]+dec_state,[out]+new_state)"
      ],
      "metadata": {
        "id": "uOZ7EdRoBbjG"
      },
      "execution_count": null,
      "outputs": []
    },
    {
      "cell_type": "markdown",
      "source": [
        "Checking the encoder and decoder model"
      ],
      "metadata": {
        "id": "2ZXFd5_q76rz"
      }
    },
    {
      "cell_type": "code",
      "source": [
        "sentence=\"new jersey is sometimes quiet during autumn and it is snowy in april\"\n",
        "sentence=eng_token.texts_to_sequences([sentence])\n",
        "sentence=pad_sequences(sentence,maxlen=max_eng_length,padding='post')\n",
        "sent_states=encoder_model.predict(sentence)\n",
        "condition=True\n",
        "translate=[]\n",
        "start=\"<SOS>\"\n",
        "token=np.zeros((1,1,1))\n",
        "token[0,0,0]=fre_index[start]\n",
        "while condition:\n",
        "  trans,hid,cell=decoder_model.predict([token]+sent_states)\n",
        "  ob_idx=np.argmax(trans[0,0,:])\n",
        "  ob_word=reverse_fre_index[ob_idx]\n",
        "  translate.append(ob_word)\n",
        "  token[0,0,0]=ob_idx\n",
        "  sent_states=[hid,cell]\n",
        "  if ob_word=='<EOS>'or len(translate)==max_fre_length:\n",
        "    condition=False\n",
        "\n",
        "\" \".join(translate)"
      ],
      "metadata": {
        "colab": {
          "base_uri": "https://localhost:8080/",
          "height": 313
        },
        "id": "4JlH-NRKbX23",
        "outputId": "66166747-9742-43ff-f102-e10d1eba356e"
      },
      "execution_count": null,
      "outputs": [
        {
          "output_type": "stream",
          "name": "stdout",
          "text": [
            "1/1 [==============================] - 1s 1s/step\n",
            "1/1 [==============================] - 1s 721ms/step\n",
            "1/1 [==============================] - 0s 25ms/step\n",
            "1/1 [==============================] - 0s 21ms/step\n",
            "1/1 [==============================] - 0s 20ms/step\n",
            "1/1 [==============================] - 0s 21ms/step\n",
            "1/1 [==============================] - 0s 21ms/step\n",
            "1/1 [==============================] - 0s 24ms/step\n",
            "1/1 [==============================] - 0s 20ms/step\n",
            "1/1 [==============================] - 0s 20ms/step\n",
            "1/1 [==============================] - 0s 21ms/step\n",
            "1/1 [==============================] - 0s 24ms/step\n",
            "1/1 [==============================] - 0s 22ms/step\n",
            "1/1 [==============================] - 0s 22ms/step\n",
            "1/1 [==============================] - 0s 21ms/step\n",
            "1/1 [==============================] - 0s 20ms/step\n"
          ]
        },
        {
          "output_type": "execute_result",
          "data": {
            "text/plain": [
              "\"new jersey est parfois calme pendant l' automne et il est neigeux en avril <EOS>\""
            ],
            "application/vnd.google.colaboratory.intrinsic+json": {
              "type": "string"
            }
          },
          "metadata": {},
          "execution_count": 37
        }
      ]
    },
    {
      "cell_type": "markdown",
      "source": [
        "Defining a function that translate the english sentence into french sentence"
      ],
      "metadata": {
        "id": "ao75KhLx8lac"
      }
    },
    {
      "cell_type": "code",
      "source": [
        "def translator(sentence):\n",
        "  sentence=eng_token.texts_to_sequences([sentence])\n",
        "  sentence=pad_sequences(sentence,maxlen=max_eng_length,padding='post')\n",
        "  sent_states=encoder_model.predict(sentence)\n",
        "  condition=True\n",
        "  translate=[]\n",
        "  start=\"<SOS>\"\n",
        "  token=np.zeros((1,1,1))\n",
        "  token[0,0,0]=fre_index[start]\n",
        "  while condition:\n",
        "    trans,hid,cell=decoder_model.predict([token]+sent_states)\n",
        "    ob_idx=np.argmax(trans[0,0,:])\n",
        "    ob_word=reverse_fre_index[ob_idx]\n",
        "    translate.append(ob_word)\n",
        "    token[0,0,0]=ob_idx\n",
        "    sent_states=[hid,cell]\n",
        "    if ob_word=='<EOS>'or len(translate)==max_fre_length:\n",
        "      condition=False\n",
        "  return \" \".join(translate)"
      ],
      "metadata": {
        "id": "QcSoNTmXbzFm"
      },
      "execution_count": null,
      "outputs": []
    },
    {
      "cell_type": "markdown",
      "source": [
        "Now translating english sentences into french"
      ],
      "metadata": {
        "id": "5WtQdNqdCw1F"
      }
    },
    {
      "cell_type": "code",
      "source": [
        "translator(\"india is sometimes cold during march , but it is sometimes hot in january .\")"
      ],
      "metadata": {
        "colab": {
          "base_uri": "https://localhost:8080/",
          "height": 365
        },
        "id": "VCUajr0mcPlp",
        "outputId": "67f5cf4b-d1b9-4fae-aa5e-95fcbf22292d"
      },
      "execution_count": null,
      "outputs": [
        {
          "output_type": "stream",
          "name": "stdout",
          "text": [
            "1/1 [==============================] - 0s 36ms/step\n",
            "1/1 [==============================] - 0s 31ms/step\n",
            "1/1 [==============================] - 0s 34ms/step\n",
            "1/1 [==============================] - 0s 101ms/step\n",
            "1/1 [==============================] - 0s 56ms/step\n",
            "1/1 [==============================] - 0s 48ms/step\n",
            "1/1 [==============================] - 0s 62ms/step\n",
            "1/1 [==============================] - 0s 61ms/step\n",
            "1/1 [==============================] - 0s 46ms/step\n",
            "1/1 [==============================] - 0s 53ms/step\n",
            "1/1 [==============================] - 0s 106ms/step\n",
            "1/1 [==============================] - 0s 33ms/step\n",
            "1/1 [==============================] - 0s 48ms/step\n",
            "1/1 [==============================] - 0s 36ms/step\n",
            "1/1 [==============================] - 0s 35ms/step\n",
            "1/1 [==============================] - 0s 54ms/step\n",
            "1/1 [==============================] - 0s 62ms/step\n",
            "1/1 [==============================] - 0s 68ms/step\n"
          ]
        },
        {
          "output_type": "execute_result",
          "data": {
            "text/plain": [
              "\"l' inde est parfois froid au mois de mars mais il est parfois chaud en janvier <EOS>\""
            ],
            "application/vnd.google.colaboratory.intrinsic+json": {
              "type": "string"
            }
          },
          "metadata": {},
          "execution_count": 39
        }
      ]
    },
    {
      "cell_type": "code",
      "source": [
        "translator(\"our least liked fruit is the lemon but her least liked is the pear\")"
      ],
      "metadata": {
        "colab": {
          "base_uri": "https://localhost:8080/",
          "height": 313
        },
        "id": "jo8Jj1qmc5U6",
        "outputId": "e88d9678-779a-40c1-9e58-4f64c2059141"
      },
      "execution_count": null,
      "outputs": [
        {
          "output_type": "stream",
          "name": "stdout",
          "text": [
            "1/1 [==============================] - 0s 18ms/step\n",
            "1/1 [==============================] - 0s 18ms/step\n",
            "1/1 [==============================] - 0s 20ms/step\n",
            "1/1 [==============================] - 0s 19ms/step\n",
            "1/1 [==============================] - 0s 18ms/step\n",
            "1/1 [==============================] - 0s 18ms/step\n",
            "1/1 [==============================] - 0s 18ms/step\n",
            "1/1 [==============================] - 0s 18ms/step\n",
            "1/1 [==============================] - 0s 20ms/step\n",
            "1/1 [==============================] - 0s 19ms/step\n",
            "1/1 [==============================] - 0s 20ms/step\n",
            "1/1 [==============================] - 0s 18ms/step\n",
            "1/1 [==============================] - 0s 18ms/step\n",
            "1/1 [==============================] - 0s 18ms/step\n",
            "1/1 [==============================] - 0s 31ms/step\n",
            "1/1 [==============================] - 0s 30ms/step\n"
          ]
        },
        {
          "output_type": "execute_result",
          "data": {
            "text/plain": [
              "'notre fruit est moins aimé le citron mais elle est moins aimé la poire <EOS>'"
            ],
            "application/vnd.google.colaboratory.intrinsic+json": {
              "type": "string"
            }
          },
          "metadata": {},
          "execution_count": 60
        }
      ]
    },
    {
      "cell_type": "code",
      "source": [
        "translator(\"she disliked a rusty yellow car .\")"
      ],
      "metadata": {
        "colab": {
          "base_uri": "https://localhost:8080/",
          "height": 192
        },
        "id": "GT7BtEm94w1P",
        "outputId": "87798483-272f-4ed7-e652-15db7a50767f"
      },
      "execution_count": null,
      "outputs": [
        {
          "output_type": "stream",
          "name": "stdout",
          "text": [
            "1/1 [==============================] - 0s 29ms/step\n",
            "1/1 [==============================] - 0s 30ms/step\n",
            "1/1 [==============================] - 0s 31ms/step\n",
            "1/1 [==============================] - 0s 30ms/step\n",
            "1/1 [==============================] - 0s 21ms/step\n",
            "1/1 [==============================] - 0s 22ms/step\n",
            "1/1 [==============================] - 0s 18ms/step\n",
            "1/1 [==============================] - 0s 19ms/step\n",
            "1/1 [==============================] - 0s 20ms/step\n"
          ]
        },
        {
          "output_type": "execute_result",
          "data": {
            "text/plain": [
              "\"elle n'aimait pas une voiture jaune rouillée <EOS>\""
            ],
            "application/vnd.google.colaboratory.intrinsic+json": {
              "type": "string"
            }
          },
          "metadata": {},
          "execution_count": 41
        }
      ]
    },
    {
      "cell_type": "code",
      "source": [
        "translator(\"paris is never hot during summer , and it is usually mild in winter .\")"
      ],
      "metadata": {
        "colab": {
          "base_uri": "https://localhost:8080/",
          "height": 313
        },
        "id": "qAaxJO6P73No",
        "outputId": "962230c3-e63a-46c8-9fef-071a4c09eac8"
      },
      "execution_count": null,
      "outputs": [
        {
          "output_type": "stream",
          "name": "stdout",
          "text": [
            "1/1 [==============================] - 0s 19ms/step\n",
            "1/1 [==============================] - 0s 21ms/step\n",
            "1/1 [==============================] - 0s 22ms/step\n",
            "1/1 [==============================] - 0s 21ms/step\n",
            "1/1 [==============================] - 0s 20ms/step\n",
            "1/1 [==============================] - 0s 20ms/step\n",
            "1/1 [==============================] - 0s 21ms/step\n",
            "1/1 [==============================] - 0s 21ms/step\n",
            "1/1 [==============================] - 0s 20ms/step\n",
            "1/1 [==============================] - 0s 20ms/step\n",
            "1/1 [==============================] - 0s 20ms/step\n",
            "1/1 [==============================] - 0s 22ms/step\n",
            "1/1 [==============================] - 0s 23ms/step\n",
            "1/1 [==============================] - 0s 22ms/step\n",
            "1/1 [==============================] - 0s 21ms/step\n",
            "1/1 [==============================] - 0s 22ms/step\n"
          ]
        },
        {
          "output_type": "execute_result",
          "data": {
            "text/plain": [
              "\"paris est jamais chaude pendant l' été et il est généralement doux en hiver <EOS>\""
            ],
            "application/vnd.google.colaboratory.intrinsic+json": {
              "type": "string"
            }
          },
          "metadata": {},
          "execution_count": 44
        }
      ]
    },
    {
      "cell_type": "code",
      "source": [
        "translator(\"china is hot during july , but it is never pleasant in january .\")"
      ],
      "metadata": {
        "colab": {
          "base_uri": "https://localhost:8080/",
          "height": 278
        },
        "id": "elfIIy_28kx3",
        "outputId": "8bb7ef25-c291-44bf-d2cc-0d1d425347cc"
      },
      "execution_count": null,
      "outputs": [
        {
          "output_type": "stream",
          "name": "stdout",
          "text": [
            "1/1 [==============================] - 0s 20ms/step\n",
            "1/1 [==============================] - 0s 24ms/step\n",
            "1/1 [==============================] - 0s 20ms/step\n",
            "1/1 [==============================] - 0s 20ms/step\n",
            "1/1 [==============================] - 0s 20ms/step\n",
            "1/1 [==============================] - 0s 20ms/step\n",
            "1/1 [==============================] - 0s 21ms/step\n",
            "1/1 [==============================] - 0s 25ms/step\n",
            "1/1 [==============================] - 0s 20ms/step\n",
            "1/1 [==============================] - 0s 24ms/step\n",
            "1/1 [==============================] - 0s 20ms/step\n",
            "1/1 [==============================] - 0s 19ms/step\n",
            "1/1 [==============================] - 0s 22ms/step\n",
            "1/1 [==============================] - 0s 20ms/step\n"
          ]
        },
        {
          "output_type": "execute_result",
          "data": {
            "text/plain": [
              "'chine est chaud en juillet mais il est jamais agréable en janvier <EOS>'"
            ],
            "application/vnd.google.colaboratory.intrinsic+json": {
              "type": "string"
            }
          },
          "metadata": {},
          "execution_count": 47
        }
      ]
    },
    {
      "cell_type": "code",
      "source": [
        "translator(\"the strawberry is their least favorite fruit , but the apple is our least favorite.\")"
      ],
      "metadata": {
        "colab": {
          "base_uri": "https://localhost:8080/",
          "height": 331
        },
        "id": "OMXgT7gV9BOX",
        "outputId": "4521b733-1213-46a0-cef2-5bdbf8e772e5"
      },
      "execution_count": null,
      "outputs": [
        {
          "output_type": "stream",
          "name": "stdout",
          "text": [
            "1/1 [==============================] - 0s 19ms/step\n",
            "1/1 [==============================] - 0s 19ms/step\n",
            "1/1 [==============================] - 0s 20ms/step\n",
            "1/1 [==============================] - 0s 19ms/step\n",
            "1/1 [==============================] - 0s 19ms/step\n",
            "1/1 [==============================] - 0s 18ms/step\n",
            "1/1 [==============================] - 0s 19ms/step\n",
            "1/1 [==============================] - 0s 19ms/step\n",
            "1/1 [==============================] - 0s 48ms/step\n",
            "1/1 [==============================] - 0s 36ms/step\n",
            "1/1 [==============================] - 0s 30ms/step\n",
            "1/1 [==============================] - 0s 32ms/step\n",
            "1/1 [==============================] - 0s 27ms/step\n",
            "1/1 [==============================] - 0s 28ms/step\n",
            "1/1 [==============================] - 0s 29ms/step\n",
            "1/1 [==============================] - 0s 32ms/step\n"
          ]
        },
        {
          "output_type": "execute_result",
          "data": {
            "text/plain": [
              "'la fraise est leur fruit préféré moins mais la pomme est notre moins préféré <EOS>'"
            ],
            "application/vnd.google.colaboratory.intrinsic+json": {
              "type": "string"
            }
          },
          "metadata": {},
          "execution_count": 50
        }
      ]
    },
    {
      "cell_type": "code",
      "source": [
        "translator(\"lemons\")"
      ],
      "metadata": {
        "id": "9VL-UAR5OfjN",
        "colab": {
          "base_uri": "https://localhost:8080/",
          "height": 88
        },
        "outputId": "9df6090a-9041-4e78-d176-3b366a9f1955"
      },
      "execution_count": null,
      "outputs": [
        {
          "output_type": "stream",
          "name": "stdout",
          "text": [
            "1/1 [==============================] - 0s 27ms/step\n",
            "1/1 [==============================] - 0s 30ms/step\n",
            "1/1 [==============================] - 0s 29ms/step\n"
          ]
        },
        {
          "output_type": "execute_result",
          "data": {
            "text/plain": [
              "'citrons <EOS>'"
            ],
            "application/vnd.google.colaboratory.intrinsic+json": {
              "type": "string"
            }
          },
          "metadata": {},
          "execution_count": 57
        }
      ]
    },
    {
      "cell_type": "code",
      "source": [],
      "metadata": {
        "id": "-FVER8kr_p-4"
      },
      "execution_count": null,
      "outputs": []
    }
  ]
}